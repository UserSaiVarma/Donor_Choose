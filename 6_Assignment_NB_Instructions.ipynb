{
 "cells": [
  {
   "cell_type": "markdown",
   "metadata": {
    "id": "Dnubs-Nnb3cw"
   },
   "source": [
    "### Applying Naive Bayes"
   ]
  },
  {
   "cell_type": "markdown",
   "metadata": {
    "id": "FYqCIxzFb3c5"
   },
   "source": [
    "1.1 Loading Data"
   ]
  },
  {
   "cell_type": "code",
   "execution_count": 1,
   "metadata": {
    "id": "dA1jknyqb3c_"
   },
   "outputs": [
    {
     "name": "stdout",
     "output_type": "stream",
     "text": [
      "The data points with class label as 1 are:  84.86 %\n"
     ]
    }
   ],
   "source": [
    "import pandas as pd\n",
    "#TO read the file saved as .csv\n",
    "data = pd.read_csv('preprocessed_data.csv')\n",
    "count1, count2 = data['project_is_approved'].value_counts()\n",
    "percentage1 = (count1/(count1+count2))*100\n",
    "print(\"The data points with class label as 1 are: \", round(percentage1, 2),\"%\")"
   ]
  },
  {
   "cell_type": "markdown",
   "metadata": {
    "id": "WtVV13Fyb3dH"
   },
   "source": [
    "1.2 Splitting data into Train and cross validation(or test): Stratified Sampling"
   ]
  },
  {
   "cell_type": "code",
   "execution_count": 2,
   "metadata": {
    "id": "i-PyprDNb3dI"
   },
   "outputs": [],
   "source": [
    "#seperating the class label from the dataframe\n",
    "y = data['project_is_approved'].values\n",
    "X = data.drop(['project_is_approved'], axis=1)\n",
    "\n",
    "#Splittind the data into train and test using train test split method\n",
    "from sklearn.model_selection import train_test_split\n",
    "X_train, X_test, y_train, y_test = train_test_split(X, y, test_size=0.33,random_state=5, stratify=y)"
   ]
  },
  {
   "cell_type": "markdown",
   "metadata": {
    "id": "EnZwVNULb3dO"
   },
   "source": [
    "1.3 Make Data Model Ready: encoding text features"
   ]
  },
  {
   "cell_type": "markdown",
   "metadata": {},
   "source": [
    "__Using Bag of Words__"
   ]
  },
  {
   "cell_type": "code",
   "execution_count": 3,
   "metadata": {},
   "outputs": [
    {
     "name": "stdout",
     "output_type": "stream",
     "text": [
      "After Uing BOW on 'essay' data\n",
      "(73196, 10000) (73196,)\n",
      "(36052, 10000) (73196,)\n"
     ]
    }
   ],
   "source": [
    "#Converting text features into numerical features using Bag of Words method\n",
    "from sklearn.feature_extraction.text import CountVectorizer\n",
    "\n",
    "vectorizer = CountVectorizer(min_df=100,max_features=10000,ngram_range=(1,2))\n",
    "vectorizer.fit(X_train['essay'].values)\n",
    "\n",
    "X_train_essay_bow = vectorizer.transform(X_train['essay'].values)\n",
    "X_test_essay_bow = vectorizer.transform(X_test['essay'].values)\n",
    "\n",
    "#To get feature names\n",
    "feature_names = []\n",
    "feature_names.extend(vectorizer.get_feature_names())\n",
    "\n",
    "print(\"After Uing BOW on 'essay' data\")\n",
    "print(X_train_essay_bow.shape, y_train.shape)\n",
    "print(X_test_essay_bow.shape, y_train.shape)\n",
    "\n",
    "#https://stackoverflow.com/questions/44193154/notfittederror-tfidfvectorizer-vocabulary-wasnt-fitted/44194026"
   ]
  },
  {
   "cell_type": "markdown",
   "metadata": {},
   "source": [
    "__Using TFIDF vectorizer__"
   ]
  },
  {
   "cell_type": "code",
   "execution_count": 4,
   "metadata": {},
   "outputs": [
    {
     "name": "stdout",
     "output_type": "stream",
     "text": [
      "(73196, 10000) (73196,)\n",
      "(36052, 10000) (73196,)\n"
     ]
    }
   ],
   "source": [
    "from sklearn.feature_extraction.text import TfidfVectorizer\n",
    "\n",
    "vectorizer_tfidf = TfidfVectorizer(min_df=100,max_features=10000,ngram_range=(1,3))\n",
    "vectorizer_tfidf.fit(X_train['essay'].values)\n",
    "\n",
    "X_train_essay_tfidf = vectorizer_tfidf.transform(X_train['essay'].values)\n",
    "X_test_essay_tfidf = vectorizer_tfidf.transform(X_test['essay'].values)\n",
    "\n",
    "print(X_train_essay_tfidf.shape, y_train.shape)\n",
    "print(X_test_essay_tfidf.shape, y_train.shape)"
   ]
  },
  {
   "cell_type": "markdown",
   "metadata": {},
   "source": [
    "__Observation:__ We tried changing the max feature values from 5000, 10000, 15000, 20000 and noticed that there is no improvment in the test auc value. So, we decided to train our model with 5000 features only."
   ]
  },
  {
   "cell_type": "markdown",
   "metadata": {
    "id": "bGy86kgHb3dX"
   },
   "source": [
    "1.4 Make Data Model Ready: encoding categorical features"
   ]
  },
  {
   "cell_type": "code",
   "execution_count": 5,
   "metadata": {
    "id": "EfXkofX1b3da"
   },
   "outputs": [
    {
     "name": "stdout",
     "output_type": "stream",
     "text": [
      "School State\n",
      "(73196, 51) (73196,)\n",
      "(36052, 51) (36052,)\n",
      "==================================================\n",
      "Teacher Prefix\n",
      "(73196, 5) (73196,)\n",
      "(36052, 5) (36052,)\n",
      "==================================================\n",
      "Project Grade Category\n",
      "(73196, 4) (73196,)\n",
      "(36052, 4) (36052,)\n",
      "==================================================\n",
      "Clean Categories\n",
      "(73196, 9) (73196,)\n",
      "(36052, 9) (36052,)\n",
      "==================================================\n",
      "clean Subcategories\n",
      "(73196, 30) (73196,)\n",
      "(36052, 30) (36052,)\n",
      "==================================================\n"
     ]
    }
   ],
   "source": [
    "#Converting Categorical Features into Numerical features using one hot encoding(ohe)\n",
    "\n",
    "#Converting School State\n",
    "vectorizer = CountVectorizer()\n",
    "vectorizer.fit(X_train['school_state'].values)\n",
    "feature_names.extend(vectorizer.get_feature_names())\n",
    "\n",
    "X_train_sch_st_ohe = vectorizer.transform(X_train['school_state'].values)\n",
    "X_test_sch_st_ohe = vectorizer.transform(X_test['school_state'].values)\n",
    "\n",
    "print(\"School State\")\n",
    "print(X_train_sch_st_ohe.shape, y_train.shape)\n",
    "print(X_test_sch_st_ohe.shape, y_test.shape)\n",
    "print(\"=\"*50)\n",
    "\n",
    "#Converting Teacher Prefix\n",
    "vectorizer.fit(X_train['teacher_prefix'].values)\n",
    "feature_names.extend(vectorizer.get_feature_names())\n",
    "\n",
    "X_train_teach_prefx_ohe = vectorizer.transform(X_train['teacher_prefix'].values)\n",
    "X_test_teach_prefx_ohe = vectorizer.transform(X_test['teacher_prefix'].values)\n",
    "\n",
    "print(\"Teacher Prefix\")\n",
    "print(X_train_teach_prefx_ohe.shape, y_train.shape)\n",
    "print(X_test_teach_prefx_ohe.shape, y_test.shape)\n",
    "print(\"=\"*50)\n",
    "\n",
    "#Converting Project Grade Category\n",
    "vectorizer.fit(X_train['project_grade_category'].values)\n",
    "feature_names.extend(vectorizer.get_feature_names())\n",
    "\n",
    "X_train_proj_grade_ohe = vectorizer.transform(X_train['project_grade_category'].values)\n",
    "X_test_proj_grade_ohe = vectorizer.transform(X_test['project_grade_category'].values)\n",
    "\n",
    "print(\"Project Grade Category\")\n",
    "print(X_train_proj_grade_ohe.shape, y_train.shape)\n",
    "print(X_test_proj_grade_ohe.shape, y_test.shape)\n",
    "print(\"=\"*50)\n",
    "\n",
    "#Converting Clean Categories\n",
    "vectorizer.fit(X_train['clean_categories'].values)\n",
    "feature_names.extend(vectorizer.get_feature_names())\n",
    "\n",
    "X_train_clean_cat_ohe = vectorizer.transform(X_train['clean_categories'].values)\n",
    "X_test_clean_cat_ohe = vectorizer.transform(X_test['clean_categories'].values)\n",
    "\n",
    "print(\"Clean Categories\")\n",
    "print(X_train_clean_cat_ohe.shape, y_train.shape)\n",
    "print(X_test_clean_cat_ohe.shape, y_test.shape)\n",
    "print(\"=\"*50)\n",
    "\n",
    "#Converting Clean Sub Categories\n",
    "vectorizer.fit(X_train['clean_subcategories'].values)\n",
    "feature_names.extend(vectorizer.get_feature_names())\n",
    "\n",
    "X_train_clean_subcat_ohe = vectorizer.transform(X_train['clean_subcategories'].values)\n",
    "X_test_clean_subcat_ohe = vectorizer.transform(X_test['clean_subcategories'].values)\n",
    "\n",
    "print(\"clean Subcategories\")\n",
    "print(X_train_clean_subcat_ohe.shape, y_train.shape)\n",
    "print(X_test_clean_subcat_ohe.shape, y_test.shape)\n",
    "print(\"=\"*50)"
   ]
  },
  {
   "cell_type": "markdown",
   "metadata": {},
   "source": [
    "1.5 Make Data Model Ready: encoding Numerical Features"
   ]
  },
  {
   "cell_type": "code",
   "execution_count": 6,
   "metadata": {},
   "outputs": [
    {
     "name": "stdout",
     "output_type": "stream",
     "text": [
      "Price\n",
      "(73196, 1) (73196,)\n",
      "(36052, 1) (36052,)\n",
      "==================================================\n",
      "teacher_number_of_previously_posted_projects\n",
      "(73196, 1) (73196,)\n",
      "(36052, 1) (36052,)\n",
      "==================================================\n"
     ]
    }
   ],
   "source": [
    "from sklearn.preprocessing import Normalizer\n",
    "normalizer = Normalizer()\n",
    "\n",
    "#Normalizing Price Feature\n",
    "X_train_price_norm = normalizer.fit_transform(X_train['price'].values.reshape(1,-1)).T\n",
    "X_test_price_norm = normalizer.fit_transform(X_test['price'].values.reshape(1,-1)).T\n",
    "feature_names.append('price')\n",
    "\n",
    "print(\"Price\")\n",
    "print(X_train_price_norm.shape, y_train.shape)\n",
    "print(X_test_price_norm.shape, y_test.shape)\n",
    "print(\"=\"*50)\n",
    "\n",
    "#Normalizing Previously submitted projects by the teacher feature.\n",
    "X_train_teacher_prev_sub_project_norm = normalizer.fit_transform(X_train['teacher_number_of_previously_posted_projects'].values.reshape(1,-1)).T\n",
    "X_test_teacher_prev_sub_project_norm = normalizer.fit_transform(X_test['teacher_number_of_previously_posted_projects'].values.reshape(1,-1)).T\n",
    "feature_names.append('price')\n",
    "\n",
    "print(\"teacher_number_of_previously_posted_projects\")\n",
    "print(X_train_teacher_prev_sub_project_norm.shape, y_train.shape)\n",
    "print(X_test_teacher_prev_sub_project_norm.shape, y_test.shape)\n",
    "print(\"=\"*50)"
   ]
  },
  {
   "cell_type": "markdown",
   "metadata": {},
   "source": [
    "1.6 Concatinating all the features"
   ]
  },
  {
   "cell_type": "markdown",
   "metadata": {},
   "source": [
    "__for Bag of Words__"
   ]
  },
  {
   "cell_type": "code",
   "execution_count": 7,
   "metadata": {},
   "outputs": [],
   "source": [
    "from scipy.sparse import hstack\n",
    "X_tr = hstack((X_train_essay_bow, X_train_sch_st_ohe, X_train_teach_prefx_ohe, X_train_proj_grade_ohe, X_train_clean_cat_ohe, X_train_clean_subcat_ohe, X_train_price_norm, X_train_teacher_prev_sub_project_norm)).tocsr()\n",
    "X_te = hstack((X_test_essay_bow, X_test_sch_st_ohe, X_test_teach_prefx_ohe, X_test_proj_grade_ohe, X_test_clean_cat_ohe, X_test_clean_subcat_ohe, X_test_price_norm, X_test_teacher_prev_sub_project_norm)).tocsr()"
   ]
  },
  {
   "cell_type": "markdown",
   "metadata": {},
   "source": [
    "__for TFIDF__"
   ]
  },
  {
   "cell_type": "code",
   "execution_count": 8,
   "metadata": {},
   "outputs": [],
   "source": [
    "from scipy.sparse import hstack\n",
    "X_tr_tfidf = hstack((X_train_essay_tfidf, X_train_sch_st_ohe, X_train_teach_prefx_ohe, X_train_proj_grade_ohe, X_train_clean_cat_ohe, X_train_clean_subcat_ohe, X_train_price_norm, X_train_teacher_prev_sub_project_norm)).tocsr()\n",
    "X_te_tfidf = hstack((X_test_essay_tfidf, X_test_sch_st_ohe, X_test_teach_prefx_ohe, X_test_proj_grade_ohe, X_test_clean_cat_ohe, X_test_clean_subcat_ohe, X_test_price_norm, X_test_teacher_prev_sub_project_norm)).tocsr()"
   ]
  },
  {
   "cell_type": "markdown",
   "metadata": {
    "id": "yYHPYadYb3dh"
   },
   "source": [
    "1.7 Appling NB on different kind of featurization as mentioned in the instructions"
   ]
  },
  {
   "cell_type": "code",
   "execution_count": 9,
   "metadata": {
    "id": "DNwqilFxb3di"
   },
   "outputs": [],
   "source": [
    "import matplotlib.pyplot as plt\n",
    "from sklearn.model_selection import RandomizedSearchCV\n",
    "from sklearn.naive_bayes import MultinomialNB\n",
    "from sklearn.metrics import roc_curve, auc"
   ]
  },
  {
   "cell_type": "markdown",
   "metadata": {},
   "source": [
    "A) Using Bag of Words\n"
   ]
  },
  {
   "cell_type": "code",
   "execution_count": 10,
   "metadata": {},
   "outputs": [
    {
     "data": {
      "image/png": "[encoded data removed]",
      "text/plain": [
       "<Figure size 432x288 with 1 Axes>"
      ]
     },
     "metadata": {
      "needs_background": "light"
     },
     "output_type": "display_data"
    },
    {
     "data": {
      "text/html": [
       "<div>\n",
       "<style scoped>\n",
       "    .dataframe tbody tr th:only-of-type {\n",
       "        vertical-align: middle;\n",
       "    }\n",
       "\n",
       "    .dataframe tbody tr th {\n",
       "        vertical-align: top;\n",
       "    }\n",
       "\n",
       "    .dataframe thead th {\n",
       "        text-align: right;\n",
       "    }\n",
       "</style>\n",
       "<table border=\"1\" class=\"dataframe\">\n",
       "  <thead>\n",
       "    <tr style=\"text-align: right;\">\n",
       "      <th></th>\n",
       "      <th>mean_fit_time</th>\n",
       "      <th>std_fit_time</th>\n",
       "      <th>mean_score_time</th>\n",
       "      <th>std_score_time</th>\n",
       "      <th>param_alpha</th>\n",
       "      <th>params</th>\n",
       "      <th>split0_test_score</th>\n",
       "      <th>split1_test_score</th>\n",
       "      <th>split2_test_score</th>\n",
       "      <th>split3_test_score</th>\n",
       "      <th>...</th>\n",
       "      <th>split2_train_score</th>\n",
       "      <th>split3_train_score</th>\n",
       "      <th>split4_train_score</th>\n",
       "      <th>split5_train_score</th>\n",
       "      <th>split6_train_score</th>\n",
       "      <th>split7_train_score</th>\n",
       "      <th>split8_train_score</th>\n",
       "      <th>split9_train_score</th>\n",
       "      <th>mean_train_score</th>\n",
       "      <th>std_train_score</th>\n",
       "    </tr>\n",
       "  </thead>\n",
       "  <tbody>\n",
       "    <tr>\n",
       "      <th>0</th>\n",
       "      <td>0.166162</td>\n",
       "      <td>0.065023</td>\n",
       "      <td>0.009463</td>\n",
       "      <td>0.004478</td>\n",
       "      <td>0.0005</td>\n",
       "      <td>{'alpha': 0.0005}</td>\n",
       "      <td>0.707753</td>\n",
       "      <td>0.696792</td>\n",
       "      <td>0.699153</td>\n",
       "      <td>0.686935</td>\n",
       "      <td>...</td>\n",
       "      <td>0.740559</td>\n",
       "      <td>0.742194</td>\n",
       "      <td>0.742238</td>\n",
       "      <td>0.741325</td>\n",
       "      <td>0.740845</td>\n",
       "      <td>0.738853</td>\n",
       "      <td>0.739973</td>\n",
       "      <td>0.740503</td>\n",
       "      <td>0.740700</td>\n",
       "      <td>0.000988</td>\n",
       "    </tr>\n",
       "    <tr>\n",
       "      <th>4</th>\n",
       "      <td>0.232007</td>\n",
       "      <td>0.027035</td>\n",
       "      <td>0.016389</td>\n",
       "      <td>0.003522</td>\n",
       "      <td>0.001</td>\n",
       "      <td>{'alpha': 0.001}</td>\n",
       "      <td>0.707752</td>\n",
       "      <td>0.696792</td>\n",
       "      <td>0.699153</td>\n",
       "      <td>0.686935</td>\n",
       "      <td>...</td>\n",
       "      <td>0.740558</td>\n",
       "      <td>0.742194</td>\n",
       "      <td>0.742236</td>\n",
       "      <td>0.741325</td>\n",
       "      <td>0.740844</td>\n",
       "      <td>0.738853</td>\n",
       "      <td>0.739973</td>\n",
       "      <td>0.740502</td>\n",
       "      <td>0.740699</td>\n",
       "      <td>0.000988</td>\n",
       "    </tr>\n",
       "    <tr>\n",
       "      <th>3</th>\n",
       "      <td>0.244273</td>\n",
       "      <td>0.036057</td>\n",
       "      <td>0.017491</td>\n",
       "      <td>0.006691</td>\n",
       "      <td>0.005</td>\n",
       "      <td>{'alpha': 0.005}</td>\n",
       "      <td>0.707745</td>\n",
       "      <td>0.696787</td>\n",
       "      <td>0.699151</td>\n",
       "      <td>0.686935</td>\n",
       "      <td>...</td>\n",
       "      <td>0.740554</td>\n",
       "      <td>0.742190</td>\n",
       "      <td>0.742228</td>\n",
       "      <td>0.741321</td>\n",
       "      <td>0.740840</td>\n",
       "      <td>0.738849</td>\n",
       "      <td>0.739969</td>\n",
       "      <td>0.740498</td>\n",
       "      <td>0.740695</td>\n",
       "      <td>0.000987</td>\n",
       "    </tr>\n",
       "    <tr>\n",
       "      <th>8</th>\n",
       "      <td>0.253967</td>\n",
       "      <td>0.007606</td>\n",
       "      <td>0.017553</td>\n",
       "      <td>0.003657</td>\n",
       "      <td>0.01</td>\n",
       "      <td>{'alpha': 0.01}</td>\n",
       "      <td>0.707744</td>\n",
       "      <td>0.696783</td>\n",
       "      <td>0.699150</td>\n",
       "      <td>0.686933</td>\n",
       "      <td>...</td>\n",
       "      <td>0.740549</td>\n",
       "      <td>0.742185</td>\n",
       "      <td>0.742221</td>\n",
       "      <td>0.741316</td>\n",
       "      <td>0.740835</td>\n",
       "      <td>0.738844</td>\n",
       "      <td>0.739964</td>\n",
       "      <td>0.740493</td>\n",
       "      <td>0.740690</td>\n",
       "      <td>0.000987</td>\n",
       "    </tr>\n",
       "    <tr>\n",
       "      <th>5</th>\n",
       "      <td>0.251283</td>\n",
       "      <td>0.028462</td>\n",
       "      <td>0.016197</td>\n",
       "      <td>0.005188</td>\n",
       "      <td>0.05</td>\n",
       "      <td>{'alpha': 0.05}</td>\n",
       "      <td>0.707720</td>\n",
       "      <td>0.696750</td>\n",
       "      <td>0.699135</td>\n",
       "      <td>0.686916</td>\n",
       "      <td>...</td>\n",
       "      <td>0.740510</td>\n",
       "      <td>0.742146</td>\n",
       "      <td>0.742174</td>\n",
       "      <td>0.741276</td>\n",
       "      <td>0.740796</td>\n",
       "      <td>0.738804</td>\n",
       "      <td>0.739926</td>\n",
       "      <td>0.740454</td>\n",
       "      <td>0.740650</td>\n",
       "      <td>0.000986</td>\n",
       "    </tr>\n",
       "  </tbody>\n",
       "</table>\n",
       "<p>5 rows × 31 columns</p>\n",
       "</div>"
      ],
      "text/plain": [
       "   mean_fit_time  std_fit_time  mean_score_time  std_score_time param_alpha  \\\n",
       "0       0.166162      0.065023         0.009463        0.004478      0.0005   \n",
       "4       0.232007      0.027035         0.016389        0.003522       0.001   \n",
       "3       0.244273      0.036057         0.017491        0.006691       0.005   \n",
       "8       0.253967      0.007606         0.017553        0.003657        0.01   \n",
       "5       0.251283      0.028462         0.016197        0.005188        0.05   \n",
       "\n",
       "              params  split0_test_score  split1_test_score  split2_test_score  \\\n",
       "0  {'alpha': 0.0005}           0.707753           0.696792           0.699153   \n",
       "4   {'alpha': 0.001}           0.707752           0.696792           0.699153   \n",
       "3   {'alpha': 0.005}           0.707745           0.696787           0.699151   \n",
       "8    {'alpha': 0.01}           0.707744           0.696783           0.699150   \n",
       "5    {'alpha': 0.05}           0.707720           0.696750           0.699135   \n",
       "\n",
       "   split3_test_score       ...         split2_train_score  split3_train_score  \\\n",
       "0           0.686935       ...                   0.740559            0.742194   \n",
       "4           0.686935       ...                   0.740558            0.742194   \n",
       "3           0.686935       ...                   0.740554            0.742190   \n",
       "8           0.686933       ...                   0.740549            0.742185   \n",
       "5           0.686916       ...                   0.740510            0.742146   \n",
       "\n",
       "   split4_train_score  split5_train_score  split6_train_score  \\\n",
       "0            0.742238            0.741325            0.740845   \n",
       "4            0.742236            0.741325            0.740844   \n",
       "3            0.742228            0.741321            0.740840   \n",
       "8            0.742221            0.741316            0.740835   \n",
       "5            0.742174            0.741276            0.740796   \n",
       "\n",
       "   split7_train_score  split8_train_score  split9_train_score  \\\n",
       "0            0.738853            0.739973            0.740503   \n",
       "4            0.738853            0.739973            0.740502   \n",
       "3            0.738849            0.739969            0.740498   \n",
       "8            0.738844            0.739964            0.740493   \n",
       "5            0.738804            0.739926            0.740454   \n",
       "\n",
       "   mean_train_score  std_train_score  \n",
       "0          0.740700         0.000988  \n",
       "4          0.740699         0.000988  \n",
       "3          0.740695         0.000987  \n",
       "8          0.740690         0.000987  \n",
       "5          0.740650         0.000986  \n",
       "\n",
       "[5 rows x 31 columns]"
      ]
     },
     "execution_count": 10,
     "metadata": {},
     "output_type": "execute_result"
    }
   ],
   "source": [
    "#Hyperparameter Tuning\n",
    "classifier = MultinomialNB(fit_prior=False, class_prior=[0.85,0.15])\n",
    "parameters = {'alpha': [0.00001,0.0005, 0.0001,0.005,0.001,0.05,0.01,0.1,0.5,1,5,10,50,100]}\n",
    "clf = RandomizedSearchCV(classifier, parameters, cv=10, scoring='roc_auc', return_train_score=True)\n",
    "clf.fit(X_tr, y_train)\n",
    "\n",
    "results = pd.DataFrame.from_dict(clf.cv_results_)\n",
    "results = results.sort_values(['param_alpha'])\n",
    "\n",
    "train_auc= results['mean_train_score']\n",
    "train_auc_std= results['std_train_score']\n",
    "cv_auc = results['mean_test_score'] \n",
    "cv_auc_std= results['std_test_score']\n",
    "K =  results['param_alpha']\n",
    "\n",
    "plt.plot(K, train_auc, label='Train AUC')\n",
    "plt.plot(K, cv_auc, label='CV AUC')\n",
    "plt.scatter(K, train_auc, label='Train AUC points')\n",
    "plt.scatter(K, cv_auc, label='CV AUC points')\n",
    "\n",
    "\n",
    "plt.legend()\n",
    "plt.xlabel(\"K: hyperparameter\")\n",
    "plt.ylabel(\"AUC\")\n",
    "plt.title(\"Hyper parameter Vs AUC plot\")\n",
    "plt.grid()\n",
    "plt.show()\n",
    "\n",
    "results.head()"
   ]
  },
  {
   "cell_type": "code",
   "execution_count": 11,
   "metadata": {},
   "outputs": [
    {
     "name": "stdout",
     "output_type": "stream",
     "text": [
      "The best Hyperparameter alpha value is: 0.005\n"
     ]
    }
   ],
   "source": [
    "#Choosing the best hyperparameter from above results\n",
    "best_alpha = results[results['rank_test_score']==results['rank_test_score'].min()]['param_alpha'].item()\n",
    "print(\"The best Hyperparameter alpha value is:\",best_alpha)"
   ]
  },
  {
   "cell_type": "code",
   "execution_count": 16,
   "metadata": {},
   "outputs": [
    {
     "data": {
      "image/png": "[encoded data removed]",
      "text/plain": [
       "<Figure size 504x504 with 1 Axes>"
      ]
     },
     "metadata": {
      "needs_background": "light"
     },
     "output_type": "display_data"
    }
   ],
   "source": [
    "#Training the model using best hyperparameter\n",
    "classifier = MultinomialNB(alpha=best_alpha)\n",
    "clf = classifier.fit(X_tr, y_train)\n",
    "\n",
    "#Checking the performance of the model on test data using AUC as our metric\n",
    "y_train_pred = clf.predict_proba(X_tr)[:,1]\n",
    "y_test_pred = clf.predict_proba(X_te)[:,1]\n",
    "\n",
    "#getting feature log probabilities\n",
    "feature_log_prob = abs(list(clf.feature_log_prob_)[1])\n",
    "\n",
    "#getting tpr, fpr, thresholds using roc curve\n",
    "train_fpr, train_tpr, tr_thresholds = roc_curve(y_train, y_train_pred)\n",
    "test_fpr, test_tpr, te_thresholds = roc_curve(y_test, y_test_pred)\n",
    "\n",
    "#Plotting the ROC curve \n",
    "plt.plot(train_fpr, train_tpr, label=\"train AUC =\"+str(auc(train_fpr, train_tpr)))\n",
    "plt.plot(test_fpr, test_tpr, label=\"test AUC =\"+str(auc(test_fpr, test_tpr)))\n",
    "plt.legend()\n",
    "plt.xlabel(\"FPR for Train & Test\")\n",
    "plt.ylabel(\"TPR for Train & Test\")\n",
    "plt.title(\"Receuver Opearting Charecterstic Curve\")\n",
    "plt.grid()\n",
    "plt.show()"
   ]
  },
  {
   "cell_type": "code",
   "execution_count": 17,
   "metadata": {},
   "outputs": [],
   "source": [
    "def find_best_threshold(threshould, fpr, tpr):\n",
    "    t = threshould[np.argmax(tpr*(1-fpr))]\n",
    "    # (tpr*(1-fpr)) will be maximum if your fpr is very low and tpr is very high\n",
    "    print(\"the maximum value of tpr*(1-fpr)\", max(tpr*(1-fpr)), \"for threshold\", np.round(t,3))\n",
    "    print(\"=\"*100)\n",
    "    return t\n",
    "\n",
    "def predict_with_best_t(proba, threshould):\n",
    "    predictions = []\n",
    "    for i in proba:\n",
    "        if i>=threshould:\n",
    "            predictions.append(1)\n",
    "        else:\n",
    "            predictions.append(0)\n",
    "    return predictions"
   ]
  },
  {
   "cell_type": "code",
   "execution_count": 18,
   "metadata": {},
   "outputs": [
    {
     "name": "stdout",
     "output_type": "stream",
     "text": [
      "the maximum value of tpr*(1-fpr) 0.4607199910329829 for threshold 0.734\n",
      "====================================================================================================\n"
     ]
    },
    {
     "data": {
      "image/png": "[encoded data removed]",
      "text/plain": [
       "<Figure size 504x504 with 4 Axes>"
      ]
     },
     "metadata": {
      "needs_background": "light"
     },
     "output_type": "display_data"
    }
   ],
   "source": [
    "import numpy as np\n",
    "from sklearn.metrics import confusion_matrix\n",
    "import seaborn as sns\n",
    "best_t = find_best_threshold(tr_thresholds, train_fpr, train_tpr)\n",
    "\n",
    "train_confusion_matrix = confusion_matrix(y_train, predict_with_best_t(y_train_pred, best_t))\n",
    "test_confusion_matrix = confusion_matrix(y_test, predict_with_best_t(y_test_pred, best_t))\n",
    "\n",
    "#https://stackoverflow.com/questions/56478320/how-to-create-multiple-seaborn-heatmaps-with-a-shared-legend-in-one-figure\n",
    "fig, ax = plt.subplots(nrows=2)\n",
    "plt.rcParams['figure.figsize']=(7,7)\n",
    "\n",
    "sns.heatmap(train_confusion_matrix, annot=True, fmt=\"d\", cmap='Oranges', ax=ax[0])\n",
    "ax[0].set_xlabel('Predicted labels');\n",
    "ax[0].set_ylabel('True labels'); \n",
    "ax[0].set_ylim(2.0, 0)\n",
    "ax[0].set_title('Train Confusion Matrix');\n",
    "ax[0].xaxis.set_ticklabels(['Predicted: No','Predicted: Yes']); \n",
    "ax[0].yaxis.set_ticklabels(['Actual: No','Actual: Yes']);\n",
    "\n",
    "sns.heatmap(test_confusion_matrix, annot=True, fmt=\"d\", cmap='Blues', ax=ax[1])\n",
    "ax[1].set_xlabel('Predicted labels');ax[1].set_ylabel('True labels'); \n",
    "ax[1].set_ylim(2.0, 0)\n",
    "ax[1].set_title('Test Confusion Matrix');\n",
    "ax[1].xaxis.set_ticklabels(['Predicted: No','Predicted: Yes']); \n",
    "ax[1].yaxis.set_ticklabels(['Actual: No','Actual: Yes']);\n",
    "\n",
    "plt.tight_layout()"
   ]
  },
  {
   "cell_type": "markdown",
   "metadata": {},
   "source": [
    "B)Using TFIDF\n"
   ]
  },
  {
   "cell_type": "code",
   "execution_count": 19,
   "metadata": {},
   "outputs": [
    {
     "data": {
      "image/png": "[encoded data removed]",
      "text/plain": [
       "<Figure size 504x504 with 1 Axes>"
      ]
     },
     "metadata": {
      "needs_background": "light"
     },
     "output_type": "display_data"
    },
    {
     "data": {
      "text/html": [
       "<div>\n",
       "<style scoped>\n",
       "    .dataframe tbody tr th:only-of-type {\n",
       "        vertical-align: middle;\n",
       "    }\n",
       "\n",
       "    .dataframe tbody tr th {\n",
       "        vertical-align: top;\n",
       "    }\n",
       "\n",
       "    .dataframe thead th {\n",
       "        text-align: right;\n",
       "    }\n",
       "</style>\n",
       "<table border=\"1\" class=\"dataframe\">\n",
       "  <thead>\n",
       "    <tr style=\"text-align: right;\">\n",
       "      <th></th>\n",
       "      <th>mean_fit_time</th>\n",
       "      <th>std_fit_time</th>\n",
       "      <th>mean_score_time</th>\n",
       "      <th>std_score_time</th>\n",
       "      <th>param_alpha</th>\n",
       "      <th>params</th>\n",
       "      <th>split0_test_score</th>\n",
       "      <th>split1_test_score</th>\n",
       "      <th>split2_test_score</th>\n",
       "      <th>split3_test_score</th>\n",
       "      <th>...</th>\n",
       "      <th>split2_train_score</th>\n",
       "      <th>split3_train_score</th>\n",
       "      <th>split4_train_score</th>\n",
       "      <th>split5_train_score</th>\n",
       "      <th>split6_train_score</th>\n",
       "      <th>split7_train_score</th>\n",
       "      <th>split8_train_score</th>\n",
       "      <th>split9_train_score</th>\n",
       "      <th>mean_train_score</th>\n",
       "      <th>std_train_score</th>\n",
       "    </tr>\n",
       "  </thead>\n",
       "  <tbody>\n",
       "    <tr>\n",
       "      <th>1</th>\n",
       "      <td>0.259199</td>\n",
       "      <td>0.052941</td>\n",
       "      <td>0.013714</td>\n",
       "      <td>0.002246</td>\n",
       "      <td>1e-05</td>\n",
       "      <td>{'alpha': 1e-05}</td>\n",
       "      <td>0.690381</td>\n",
       "      <td>0.673355</td>\n",
       "      <td>0.675701</td>\n",
       "      <td>0.672649</td>\n",
       "      <td>...</td>\n",
       "      <td>0.722536</td>\n",
       "      <td>0.724696</td>\n",
       "      <td>0.723574</td>\n",
       "      <td>0.723213</td>\n",
       "      <td>0.722048</td>\n",
       "      <td>0.719802</td>\n",
       "      <td>0.722665</td>\n",
       "      <td>0.722012</td>\n",
       "      <td>0.722517</td>\n",
       "      <td>0.001199</td>\n",
       "    </tr>\n",
       "    <tr>\n",
       "      <th>0</th>\n",
       "      <td>0.233248</td>\n",
       "      <td>0.072505</td>\n",
       "      <td>0.012292</td>\n",
       "      <td>0.008125</td>\n",
       "      <td>0.0001</td>\n",
       "      <td>{'alpha': 0.0001}</td>\n",
       "      <td>0.690380</td>\n",
       "      <td>0.673353</td>\n",
       "      <td>0.675700</td>\n",
       "      <td>0.672649</td>\n",
       "      <td>...</td>\n",
       "      <td>0.722534</td>\n",
       "      <td>0.724695</td>\n",
       "      <td>0.723573</td>\n",
       "      <td>0.723212</td>\n",
       "      <td>0.722047</td>\n",
       "      <td>0.719801</td>\n",
       "      <td>0.722663</td>\n",
       "      <td>0.722010</td>\n",
       "      <td>0.722516</td>\n",
       "      <td>0.001199</td>\n",
       "    </tr>\n",
       "    <tr>\n",
       "      <th>8</th>\n",
       "      <td>0.257911</td>\n",
       "      <td>0.004684</td>\n",
       "      <td>0.016438</td>\n",
       "      <td>0.004042</td>\n",
       "      <td>0.0005</td>\n",
       "      <td>{'alpha': 0.0005}</td>\n",
       "      <td>0.690376</td>\n",
       "      <td>0.673349</td>\n",
       "      <td>0.675700</td>\n",
       "      <td>0.672645</td>\n",
       "      <td>...</td>\n",
       "      <td>0.722529</td>\n",
       "      <td>0.724690</td>\n",
       "      <td>0.723568</td>\n",
       "      <td>0.723207</td>\n",
       "      <td>0.722042</td>\n",
       "      <td>0.719797</td>\n",
       "      <td>0.722659</td>\n",
       "      <td>0.722006</td>\n",
       "      <td>0.722511</td>\n",
       "      <td>0.001199</td>\n",
       "    </tr>\n",
       "    <tr>\n",
       "      <th>4</th>\n",
       "      <td>0.243915</td>\n",
       "      <td>0.016767</td>\n",
       "      <td>0.014460</td>\n",
       "      <td>0.001259</td>\n",
       "      <td>0.005</td>\n",
       "      <td>{'alpha': 0.005}</td>\n",
       "      <td>0.690334</td>\n",
       "      <td>0.673316</td>\n",
       "      <td>0.675665</td>\n",
       "      <td>0.672605</td>\n",
       "      <td>...</td>\n",
       "      <td>0.722474</td>\n",
       "      <td>0.724635</td>\n",
       "      <td>0.723509</td>\n",
       "      <td>0.723151</td>\n",
       "      <td>0.721988</td>\n",
       "      <td>0.719743</td>\n",
       "      <td>0.722605</td>\n",
       "      <td>0.721951</td>\n",
       "      <td>0.722456</td>\n",
       "      <td>0.001199</td>\n",
       "    </tr>\n",
       "    <tr>\n",
       "      <th>6</th>\n",
       "      <td>0.236303</td>\n",
       "      <td>0.025922</td>\n",
       "      <td>0.015835</td>\n",
       "      <td>0.003886</td>\n",
       "      <td>0.1</td>\n",
       "      <td>{'alpha': 0.1}</td>\n",
       "      <td>0.689599</td>\n",
       "      <td>0.672404</td>\n",
       "      <td>0.674888</td>\n",
       "      <td>0.671795</td>\n",
       "      <td>...</td>\n",
       "      <td>0.721306</td>\n",
       "      <td>0.723488</td>\n",
       "      <td>0.722294</td>\n",
       "      <td>0.721986</td>\n",
       "      <td>0.720847</td>\n",
       "      <td>0.718602</td>\n",
       "      <td>0.721459</td>\n",
       "      <td>0.720792</td>\n",
       "      <td>0.721299</td>\n",
       "      <td>0.001190</td>\n",
       "    </tr>\n",
       "  </tbody>\n",
       "</table>\n",
       "<p>5 rows × 31 columns</p>\n",
       "</div>"
      ],
      "text/plain": [
       "   mean_fit_time  std_fit_time  mean_score_time  std_score_time param_alpha  \\\n",
       "1       0.259199      0.052941         0.013714        0.002246       1e-05   \n",
       "0       0.233248      0.072505         0.012292        0.008125      0.0001   \n",
       "8       0.257911      0.004684         0.016438        0.004042      0.0005   \n",
       "4       0.243915      0.016767         0.014460        0.001259       0.005   \n",
       "6       0.236303      0.025922         0.015835        0.003886         0.1   \n",
       "\n",
       "              params  split0_test_score  split1_test_score  split2_test_score  \\\n",
       "1   {'alpha': 1e-05}           0.690381           0.673355           0.675701   \n",
       "0  {'alpha': 0.0001}           0.690380           0.673353           0.675700   \n",
       "8  {'alpha': 0.0005}           0.690376           0.673349           0.675700   \n",
       "4   {'alpha': 0.005}           0.690334           0.673316           0.675665   \n",
       "6     {'alpha': 0.1}           0.689599           0.672404           0.674888   \n",
       "\n",
       "   split3_test_score       ...         split2_train_score  split3_train_score  \\\n",
       "1           0.672649       ...                   0.722536            0.724696   \n",
       "0           0.672649       ...                   0.722534            0.724695   \n",
       "8           0.672645       ...                   0.722529            0.724690   \n",
       "4           0.672605       ...                   0.722474            0.724635   \n",
       "6           0.671795       ...                   0.721306            0.723488   \n",
       "\n",
       "   split4_train_score  split5_train_score  split6_train_score  \\\n",
       "1            0.723574            0.723213            0.722048   \n",
       "0            0.723573            0.723212            0.722047   \n",
       "8            0.723568            0.723207            0.722042   \n",
       "4            0.723509            0.723151            0.721988   \n",
       "6            0.722294            0.721986            0.720847   \n",
       "\n",
       "   split7_train_score  split8_train_score  split9_train_score  \\\n",
       "1            0.719802            0.722665            0.722012   \n",
       "0            0.719801            0.722663            0.722010   \n",
       "8            0.719797            0.722659            0.722006   \n",
       "4            0.719743            0.722605            0.721951   \n",
       "6            0.718602            0.721459            0.720792   \n",
       "\n",
       "   mean_train_score  std_train_score  \n",
       "1          0.722517         0.001199  \n",
       "0          0.722516         0.001199  \n",
       "8          0.722511         0.001199  \n",
       "4          0.722456         0.001199  \n",
       "6          0.721299         0.001190  \n",
       "\n",
       "[5 rows x 31 columns]"
      ]
     },
     "execution_count": 19,
     "metadata": {},
     "output_type": "execute_result"
    }
   ],
   "source": [
    "#Hyperparameter Tuning\n",
    "classifier = MultinomialNB(fit_prior=False, class_prior=[0.84,0.15])\n",
    "parameters = {'alpha': [0.00001,0.0005, 0.0001,0.005,0.001,0.05,0.01,0.1,0.5,1,5,10,50,100]}\n",
    "clf_tfidf = RandomizedSearchCV(classifier, parameters, cv=10, scoring='roc_auc', return_train_score=True)\n",
    "clf_tfidf.fit(X_tr_tfidf, y_train)\n",
    "\n",
    "results = pd.DataFrame.from_dict(clf_tfidf.cv_results_)\n",
    "results = results.sort_values(['param_alpha'])\n",
    "\n",
    "train_auc= results['mean_train_score']\n",
    "train_auc_std= results['std_train_score']\n",
    "cv_auc = results['mean_test_score'] \n",
    "cv_auc_std= results['std_test_score']\n",
    "K =  results['param_alpha']\n",
    "\n",
    "plt.plot(K, train_auc, label='Train AUC')\n",
    "plt.plot(K, cv_auc, label='CV AUC')\n",
    "plt.scatter(K, train_auc, label='Train AUC points')\n",
    "plt.scatter(K, cv_auc, label='CV AUC points')\n",
    "\n",
    "\n",
    "plt.legend()\n",
    "plt.xlabel(\"K: hyperparameter\")\n",
    "plt.ylabel(\"AUC\")\n",
    "plt.title(\"Hyper parameter Vs AUC plot\")\n",
    "plt.grid()\n",
    "plt.show()\n",
    "\n",
    "results.head()"
   ]
  },
  {
   "cell_type": "code",
   "execution_count": 20,
   "metadata": {},
   "outputs": [
    {
     "name": "stdout",
     "output_type": "stream",
     "text": [
      "The best Hyperparameter alpha value is: 0.005\n"
     ]
    }
   ],
   "source": [
    "#Choosing the best hyperparameter from above results\n",
    "best_alpha_tfidf = results[results['rank_test_score']==results['rank_test_score'].min()]['param_alpha'].item()\n",
    "print(\"The best Hyperparameter alpha value is:\",best_alpha)"
   ]
  },
  {
   "cell_type": "code",
   "execution_count": 26,
   "metadata": {},
   "outputs": [
    {
     "data": {
      "image/png": "[encoded data removed]",
      "text/plain": [
       "<Figure size 504x504 with 1 Axes>"
      ]
     },
     "metadata": {
      "needs_background": "light"
     },
     "output_type": "display_data"
    }
   ],
   "source": [
    "#Training the model using best hyperparameter\n",
    "classifier = MultinomialNB(alpha=best_alpha)\n",
    "clf_tfidf = classifier.fit(X_tr_tfidf, y_train)\n",
    "\n",
    "#Checking the performance of the model on test data using AUC as our metric\n",
    "y_train_pred_tfidf = clf_tfidf.predict_proba(X_tr_tfidf)[:,1]\n",
    "y_test_pred_tfidf = clf_tfidf.predict_proba(X_te_tfidf)[:,1]\n",
    "\n",
    "#getting tpr, fpr, thresholds using roc curve\n",
    "train_fpr_tfidf, train_tpr_tfidf, tr_thresholds_tfidf = roc_curve(y_train, y_train_pred_tfidf)\n",
    "test_fpr_tfidf, test_tpr_tfidf, te_thresholds_tfidf = roc_curve(y_test, y_test_pred_tfidf)\n",
    "\n",
    "#Plotting the ROC curve \n",
    "plt.plot(train_fpr_tfidf, train_tpr_tfidf, label=\"train AUC =\"+str(auc(train_fpr_tfidf, train_tpr_tfidf)))\n",
    "plt.plot(test_fpr_tfidf, test_tpr_tfidf, label=\"test AUC =\"+str(auc(test_fpr_tfidf, test_tpr_tfidf)))\n",
    "plt.legend()\n",
    "plt.xlabel(\"K: hyperparameter\")\n",
    "plt.ylabel(\"AUC\")\n",
    "plt.title(\"ERROR PLOTS\")\n",
    "plt.grid()\n",
    "plt.show()"
   ]
  },
  {
   "cell_type": "code",
   "execution_count": 23,
   "metadata": {},
   "outputs": [
    {
     "name": "stdout",
     "output_type": "stream",
     "text": [
      "the maximum value of tpr*(1-fpr) 0.3100982824946483 for threshold 0.875\n",
      "====================================================================================================\n"
     ]
    },
    {
     "data": {
      "image/png": "[encoded data removed]",
      "text/plain": [
       "<Figure size 504x504 with 4 Axes>"
      ]
     },
     "metadata": {
      "needs_background": "light"
     },
     "output_type": "display_data"
    }
   ],
   "source": [
    "import numpy as np\n",
    "from sklearn.metrics import confusion_matrix\n",
    "import seaborn as sns\n",
    "best_t_tfidf = find_best_threshold(tr_thresholds_tfidf, train_fpr_tfidf, train_tpr_tfidf)\n",
    "\n",
    "train_confusion_matrix_tfidf = confusion_matrix(y_train, predict_with_best_t(y_train_pred_tfidf, best_t))\n",
    "test_confusion_matrix_tfidf = confusion_matrix(y_test, predict_with_best_t(y_test_pred_tfidf, best_t))\n",
    "\n",
    "#https://stackoverflow.com/questions/56478320/how-to-create-multiple-seaborn-heatmaps-with-a-shared-legend-in-one-figure\n",
    "fig, ax = plt.subplots(nrows=2)\n",
    "plt.rcParams['figure.figsize']=(7,7)\n",
    "\n",
    "sns.heatmap(train_confusion_matrix_tfidf, annot=True, fmt=\"d\", cmap='Oranges', ax=ax[0])\n",
    "ax[0].set_xlabel('Predicted labels');\n",
    "ax[0].set_ylabel('True labels'); \n",
    "ax[0].set_ylim(2.0, 0)\n",
    "ax[0].set_title('Train Confusion Matrix');\n",
    "ax[0].xaxis.set_ticklabels(['Predicted: No','Predicted: Yes']); \n",
    "ax[0].yaxis.set_ticklabels(['Actual: No','Actual: Yes']);\n",
    "\n",
    "sns.heatmap(test_confusion_matrix_tfidf, annot=True, fmt=\"d\", cmap='Blues', ax=ax[1])\n",
    "ax[1].set_xlabel('Predicted labels');ax[1].set_ylabel('True labels'); \n",
    "ax[1].set_ylim(2.0, 0)\n",
    "ax[1].set_title('Test Confusion Matrix');\n",
    "ax[1].xaxis.set_ticklabels(['Predicted: No','Predicted: Yes']); \n",
    "ax[1].yaxis.set_ticklabels(['Actual: No','Actual: Yes']);\n",
    "\n",
    "plt.tight_layout()"
   ]
  },
  {
   "cell_type": "markdown",
   "metadata": {},
   "source": [
    "1.8 Feature Selection using BOW:"
   ]
  },
  {
   "cell_type": "code",
   "execution_count": 24,
   "metadata": {},
   "outputs": [
    {
     "name": "stdout",
     "output_type": "stream",
     "text": [
      "success they : 11.376135360309483\n",
      "--------------------------------------------------\n",
      "with supplies : 11.376135360309483\n",
      "--------------------------------------------------\n",
      "price : 11.381005850652102\n",
      "--------------------------------------------------\n",
      "activities used : 11.383355347631344\n",
      "--------------------------------------------------\n",
      "fun ways : 11.383355347631344\n",
      "--------------------------------------------------\n",
      "items make : 11.383355347631344\n",
      "--------------------------------------------------\n",
      "playground equipment : 11.383355347631344\n",
      "--------------------------------------------------\n",
      "grow nannan : 11.390627842503733\n",
      "--------------------------------------------------\n",
      "higher academic : 11.390627842503733\n",
      "--------------------------------------------------\n",
      "better oxygen : 11.405333449226635\n",
      "--------------------------------------------------\n",
      "improve school : 11.405333449226635\n",
      "--------------------------------------------------\n",
      "materials learn : 11.405333449226635\n",
      "--------------------------------------------------\n",
      "reactions : 11.41276815132863\n",
      "--------------------------------------------------\n",
      "science fair : 11.42025854251617\n",
      "--------------------------------------------------\n",
      "work hands : 11.42025854251617\n",
      "--------------------------------------------------\n",
      "price : 11.792397567987706\n",
      "--------------------------------------------------\n",
      "nd : 11.941134122412786\n",
      "--------------------------------------------------\n",
      "wy : 12.267506280730565\n",
      "--------------------------------------------------\n",
      "vt : 12.398522263587768\n",
      "--------------------------------------------------\n",
      "dr : 14.364021084227279\n",
      "--------------------------------------------------\n"
     ]
    }
   ],
   "source": [
    "#Getting top 20 features for interpretability\n",
    "feature_index = sorted(range(len(feature_log_prob)), key=lambda i: feature_log_prob[i])[-20:]\n",
    "for idx in feature_index:\n",
    "    print(feature_names[idx],\":\",feature_log_prob[idx])\n",
    "    print(\"-\"*50)"
   ]
  },
  {
   "cell_type": "markdown",
   "metadata": {
    "id": "lS9hIHdib3dp"
   },
   "source": [
    "<h1>3. Summary</h1>"
   ]
  },
  {
   "cell_type": "code",
   "execution_count": 25,
   "metadata": {},
   "outputs": [
    {
     "name": "stdout",
     "output_type": "stream",
     "text": [
      "+------------+-----------------+-----------------+-------+\n",
      "| Vectorizer |      Model      | Hyper Parameter |  AUC  |\n",
      "+------------+-----------------+-----------------+-------+\n",
      "|    BOW     | MultinomialNB() |      0.005      | 0.734 |\n",
      "|   TFIDF    | MultinomialNB() |      1e-05      | 0.875 |\n",
      "+------------+-----------------+-----------------+-------+\n"
     ]
    }
   ],
   "source": [
    "from prettytable import PrettyTable\n",
    "\n",
    "summary = PrettyTable()\n",
    "summary.field_names = [\"Vectorizer\", \"Model\", \"Hyper Parameter\", \"AUC\"]\n",
    "summary.add_row([\"BOW\", \"MultinomialNB()\", best_alpha, round(best_t,3)])\n",
    "summary.add_row([\"TFIDF\", \"MultinomialNB()\", best_alpha_tfidf, round(best_t_tfidf,3)])\n",
    "print(summary)"
   ]
  }
 ],
 "metadata": {
  "colab": {
   "collapsed_sections": [],
   "name": "6_Assignment_NB_Instructions.ipynb",
   "provenance": []
  },
  "kernelspec": {
   "display_name": "Python 3",
   "language": "python",
   "name": "python3"
  },
  "language_info": {
   "codemirror_mode": {
    "name": "ipython",
    "version": 3
   },
   "file_extension": ".py",
   "mimetype": "text/x-python",
   "name": "python",
   "nbconvert_exporter": "python",
   "pygments_lexer": "ipython3",
   "version": "3.6.5"
  }
 },
 "nbformat": 4,
 "nbformat_minor": 1
}
